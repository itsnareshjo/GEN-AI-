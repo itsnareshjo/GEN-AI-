{
 "cells": [
  {
   "cell_type": "markdown",
   "id": "0323eea5-a78b-4e5d-9ab5-df3818692324",
   "metadata": {},
   "source": [
    "<h1>1)Language Translator</h1>"
   ]
  },
  {
   "cell_type": "code",
   "execution_count": 3,
   "id": "9444399c-38b6-49ba-b129-89782c12adf7",
   "metadata": {},
   "outputs": [
    {
     "name": "stdin",
     "output_type": "stream",
     "text": [
      "Enter text in English to translate:  I am going to sleep\n"
     ]
    },
    {
     "name": "stdout",
     "output_type": "stream",
     "text": [
      "\n",
      "Original (English): I am going to sleep\n",
      "Translated (Tamil): நான் தூங்கப் போகிறேன்\n",
      "Translated (Telugu): నేను నిద్రపోతున్నాను\n",
      "Translated (French): Je vais dormir\n"
     ]
    }
   ],
   "source": [
    "from deep_translator import GoogleTranslator\n",
    "\n",
    "def translate_to_multiple_languages(text):\n",
    "    # Translate to Tamil\n",
    "    tamil_translation = GoogleTranslator(source='auto', target='ta').translate(text)\n",
    "\n",
    "    # Translate to Telugu\n",
    "    telugu_translation = GoogleTranslator(source='auto', target='te').translate(text)\n",
    "\n",
    "    # Translate to French\n",
    "    french_translation = GoogleTranslator(source='auto', target='fr').translate(text)\n",
    "\n",
    "    return tamil_translation, telugu_translation, french_translation\n",
    "\n",
    "# Take input from the user\n",
    "english_text = input(\"Enter text in English to translate: \")\n",
    "\n",
    "# Translate the input text\n",
    "tamil_text, telugu_text, french_text = translate_to_multiple_languages(english_text)\n",
    "\n",
    "# Output the translations\n",
    "print(f\"\\nOriginal (English): {english_text}\")\n",
    "print(f\"Translated (Tamil): {tamil_text}\")\n",
    "print(f\"Translated (Telugu): {telugu_text}\")\n",
    "print(f\"Translated (French): {french_text}\")\n"
   ]
  },
  {
   "cell_type": "markdown",
   "id": "f650deb7-f198-476f-a720-108b00cc379a",
   "metadata": {},
   "source": [
    "<h1>2)Text to Audio</h1>"
   ]
  },
  {
   "cell_type": "code",
   "execution_count": 8,
   "id": "c6839b98-25e6-4392-b15a-b4653d3c44b9",
   "metadata": {
    "scrolled": true
   },
   "outputs": [
    {
     "name": "stdin",
     "output_type": "stream",
     "text": [
      "Enter text in English to translate and hear:  Dhoni is my inspiration\n"
     ]
    },
    {
     "name": "stdout",
     "output_type": "stream",
     "text": [
      "\n",
      "Original (English): Dhoni is my inspiration\n",
      "Translated (Tamil): தோனி எனக்கு உத்வேகம்\n",
      "Translated (Telugu): ధోని నా ప్రేరణ\n",
      "Translated (French): Dhoni est mon inspiration\n",
      "Saved audio: tamil.mp3\n",
      "Saved audio: telugu.mp3\n",
      "Saved audio: french.mp3\n"
     ]
    }
   ],
   "source": [
    "from deep_translator import GoogleTranslator\n",
    "from gtts import gTTS\n",
    "import os\n",
    "\n",
    "def translate_to_multiple_languages(text):\n",
    "    tamil = GoogleTranslator(source='auto', target='ta').translate(text)\n",
    "    telugu = GoogleTranslator(source='auto', target='te').translate(text)\n",
    "    french = GoogleTranslator(source='auto', target='fr').translate(text)\n",
    "    return tamil, telugu, french\n",
    "\n",
    "def text_to_audio(text, lang, filename):\n",
    "    tts = gTTS(text=text, lang=lang)\n",
    "    tts.save(filename)\n",
    "    print(f\"Saved audio: {filename}\")\n",
    "    os.system(f\"start {filename}\")  # For Windows. Use 'open' on Mac, 'xdg-open' on Linux\n",
    "\n",
    "# Take input from the user\n",
    "english_text = input(\"Enter text in English to translate and hear: \")\n",
    "\n",
    "# Get translations\n",
    "tamil_text, telugu_text, french_text = translate_to_multiple_languages(english_text)\n",
    "\n",
    "# Show translations\n",
    "print(f\"\\nOriginal (English): {english_text}\")\n",
    "print(f\"Translated (Tamil): {tamil_text}\")\n",
    "print(f\"Translated (Telugu): {telugu_text}\")\n",
    "print(f\"Translated (French): {french_text}\")\n",
    "\n",
    "# Convert to audio\n",
    "text_to_audio(tamil_text, 'ta', 'tamil.mp3')\n",
    "text_to_audio(telugu_text, 'te', 'telugu.mp3')\n",
    "text_to_audio(french_text, 'fr', 'french.mp3')\n"
   ]
  },
  {
   "cell_type": "code",
   "execution_count": null,
   "id": "55ccd047-9455-40ab-90c4-f20ab1704e69",
   "metadata": {},
   "outputs": [],
   "source": []
  }
 ],
 "metadata": {
  "kernelspec": {
   "display_name": "Python 3 (ipykernel)",
   "language": "python",
   "name": "python3"
  },
  "language_info": {
   "codemirror_mode": {
    "name": "ipython",
    "version": 3
   },
   "file_extension": ".py",
   "mimetype": "text/x-python",
   "name": "python",
   "nbconvert_exporter": "python",
   "pygments_lexer": "ipython3",
   "version": "3.12.5"
  }
 },
 "nbformat": 4,
 "nbformat_minor": 5
}
