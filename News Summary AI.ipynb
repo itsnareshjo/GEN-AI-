{
 "cells": [
  {
   "cell_type": "markdown",
   "id": "fc91ec6e-8072-48a4-8e57-9523515de54c",
   "metadata": {},
   "source": [
    "<center><h1>News Summary AI</h1></center>"
   ]
  },
  {
   "cell_type": "code",
   "execution_count": 1,
   "id": "32462f31-e87b-4a03-b808-981b0066a5c3",
   "metadata": {},
   "outputs": [
    {
     "name": "stderr",
     "output_type": "stream",
     "text": [
      "Device set to use cpu\n",
      "Device set to use cpu\n"
     ]
    },
    {
     "name": "stdout",
     "output_type": "stream",
     "text": [
      "Welcome to the AI News Summarizer and Sentiment Analyzer!\n",
      "Type 'exit' to stop.\n"
     ]
    },
    {
     "name": "stdin",
     "output_type": "stream",
     "text": [
      "Enter the news article or text (type 'exit' to quit):  What happened in Pahalgam? Gunmen on Tuesday opened fire on sightseers in a popular travel destination in the mountainous destination of Pahalgam in Indian-administered Kashmir.  At least 25 Indian citizens and one Nepali national were killed in the massacre, which unfolded in a valley only accessible by foot or on horseback.  Eyewitnesses described scenes of horror as the gunmen approached, opening fire on tourists from close range.  Some recalled how the men among the group were singled out and shot at. Other survivors speaking to local media said the gunmen accused some of the victims of supporting Prime Minister Modi.  Modi’s Hindu-nationalist government revoked Muslim-majority Kashmir’s constitutional autonomy in 2019, bringing it under the direct control of New Delhi, sparking widespread protests.  What’s the story with Kashmir? Kashmir has been a flashpoint in India-Pakistan relations since both countries gained their independence from Britain in 1947.  The two nations to emerge from the bloody partition of British India – Hindu-majority India and Muslim-majority Pakistan – both claim Kashmir in full and, months after becoming independent, fought their first of three wars over the territory.  The divided region is now one of the most militarized places in the world.  For decades, several domestic militant groups, demanding either independence for Kashmir or for the area to become part of Pakistan, have fought Indian security forces, in violence that has killed tens of thousands. India says those groups are supported by Pakistan, which Islamabad denies.  Modi’s government has said that militancy has declined since the revocation of Kashmir’s autonomy in 2019. Analysts say Tuesday’s massacre has shattered that message\n"
     ]
    },
    {
     "name": "stdout",
     "output_type": "stream",
     "text": [
      "\n",
      "Summarizing the article...\n",
      "\n",
      "Summary:\n",
      "At least 25 Indian citizens and one Nepali national were killed in the massacre. Eyewitnesses described scenes of horror as the gunmen approached. Kashmir has been a flashpoint in India-Pakistan relations since 1947. The divided region is now one of the most militarized places in the world.\n",
      "\n",
      "Analyzing sentiment...\n",
      "\n",
      "Sentiment Analysis:\n",
      "Sentiment: NEGATIVE (Confidence: 1.00)\n"
     ]
    },
    {
     "name": "stdin",
     "output_type": "stream",
     "text": [
      "Enter the news article or text (type 'exit' to quit):  exit\n"
     ]
    },
    {
     "name": "stdout",
     "output_type": "stream",
     "text": [
      "Goodbye!\n"
     ]
    }
   ],
   "source": [
    "from transformers import pipeline\n",
    "\n",
    "# Specify the models explicitly for summarization and sentiment analysis\n",
    "summarizer = pipeline(\"summarization\", model=\"facebook/bart-large-cnn\")\n",
    "sentiment_analyzer = pipeline(\"sentiment-analysis\", model=\"distilbert-base-uncased-finetuned-sst-2-english\")\n",
    "\n",
    "# Function to summarize news article\n",
    "def summarize_article(article_text):\n",
    "    print(\"\\nSummarizing the article...\")\n",
    "    summary = summarizer(article_text, max_length=150, min_length=50, do_sample=False)\n",
    "    return summary[0]['summary_text']\n",
    "\n",
    "# Function to analyze sentiment of the article\n",
    "def analyze_sentiment(article_text):\n",
    "    print(\"\\nAnalyzing sentiment...\")\n",
    "    sentiment = sentiment_analyzer(article_text)\n",
    "    return sentiment[0]['label'], sentiment[0]['score']\n",
    "\n",
    "# Main function to interact with the user\n",
    "def start_chat():\n",
    "    print(\"Welcome to the AI News Summarizer and Sentiment Analyzer!\")\n",
    "    print(\"Type 'exit' to stop.\")\n",
    "    \n",
    "    while True:\n",
    "        user_input = input(\"Enter the news article or text (type 'exit' to quit): \")\n",
    "        \n",
    "        if user_input.lower() == 'exit':\n",
    "            print(\"Goodbye!\")\n",
    "            break\n",
    "        \n",
    "        # Summarize the article\n",
    "        summary = summarize_article(user_input)\n",
    "        print(\"\\nSummary:\")\n",
    "        print(summary)\n",
    "        \n",
    "        # Perform sentiment analysis\n",
    "        sentiment, score = analyze_sentiment(user_input)\n",
    "        print(\"\\nSentiment Analysis:\")\n",
    "        print(f\"Sentiment: {sentiment} (Confidence: {score:.2f})\")\n",
    "\n",
    "# Run the chatbot\n",
    "if __name__ == \"__main__\":\n",
    "    start_chat()\n"
   ]
  },
  {
   "cell_type": "code",
   "execution_count": null,
   "id": "14ae2f2b-9fb1-4ef6-9065-9c334aaac7bd",
   "metadata": {},
   "outputs": [],
   "source": []
  }
 ],
 "metadata": {
  "kernelspec": {
   "display_name": "Python 3 (ipykernel)",
   "language": "python",
   "name": "python3"
  },
  "language_info": {
   "codemirror_mode": {
    "name": "ipython",
    "version": 3
   },
   "file_extension": ".py",
   "mimetype": "text/x-python",
   "name": "python",
   "nbconvert_exporter": "python",
   "pygments_lexer": "ipython3",
   "version": "3.12.5"
  }
 },
 "nbformat": 4,
 "nbformat_minor": 5
}
