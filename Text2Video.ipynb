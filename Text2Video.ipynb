{
 "cells": [
  {
   "cell_type": "code",
   "execution_count": null,
   "id": "5362be75-c78e-4e58-bbd1-1ff670ec5f5c",
   "metadata": {
    "scrolled": true
   },
   "outputs": [
    {
     "data": {
      "application/vnd.jupyter.widget-view+json": {
       "model_id": "b6d0fed4b1cd4653afd1a7bb829114be",
       "version_major": 2,
       "version_minor": 0
      },
      "text/plain": [
       "Loading pipeline components...:   0%|          | 0/5 [00:00<?, ?it/s]"
      ]
     },
     "metadata": {},
     "output_type": "display_data"
    },
    {
     "data": {
      "application/vnd.jupyter.widget-view+json": {
       "model_id": "358a6da0c9224067a95ffe10e28af7f3",
       "version_major": 2,
       "version_minor": 0
      },
      "text/plain": [
       "  0%|          | 0/50 [00:00<?, ?it/s]"
      ]
     },
     "metadata": {},
     "output_type": "display_data"
    },
    {
     "name": "stdout",
     "output_type": "stream",
     "text": [
      "Total processed frames: 16\n",
      "Ultra-HD video saved at: ultra_hd_video.mp4\n"
     ]
    }
   ],
   "source": [
    "from diffusers import DiffusionPipeline\n",
    "import torch\n",
    "import numpy as np\n",
    "import imageio\n",
    "from PIL import Image\n",
    "\n",
    "# Load model (without fp16)\n",
    "pipe = DiffusionPipeline.from_pretrained(\n",
    "    \"damo-vilab/text-to-video-ms-1.7b\"\n",
    ").to(\"cpu\")  # Move to CPU explicitly\n",
    "\n",
    "# Prompt and generation\n",
    "prompt = \"train swimming\"\n",
    "video_batches = pipe(prompt, num_inference_steps=50).frames\n",
    "\n",
    "# Super resolution target\n",
    "target_resolution = (768, 768)\n",
    "\n",
    "# Process frames\n",
    "processed_frames = []\n",
    "\n",
    "for batch in video_batches:\n",
    "    for frame in batch:\n",
    "        # Normalize to 0-255 and convert\n",
    "        if frame.dtype != np.uint8:\n",
    "            frame = (frame * 255).clip(0, 255).astype(np.uint8)\n",
    "\n",
    "        # Ensure RGB 3-channel\n",
    "        if frame.ndim == 2:\n",
    "            frame = np.stack([frame] * 3, axis=-1)\n",
    "        elif frame.ndim == 3 and frame.shape[2] == 1:\n",
    "            frame = np.repeat(frame, 3, axis=2)\n",
    "        elif frame.ndim == 3 and frame.shape[2] > 3:\n",
    "            frame = frame[:, :, :3]\n",
    "\n",
    "        # Resize to higher resolution\n",
    "        image = Image.fromarray(frame)\n",
    "        image = image.resize(target_resolution, Image.LANCZOS)\n",
    "        processed_frames.append(np.array(image))\n",
    "\n",
    "print(f\"Total processed frames: {len(processed_frames)}\")\n",
    "\n",
    "# Save video with FFmpeg CRF (better than fixed bitrate)\n",
    "output_path = \"ultra_hd_video.mp4\"\n",
    "writer = imageio.get_writer(\n",
    "    output_path,\n",
    "    fps=8,\n",
    "    codec='libx264',\n",
    "    quality=None,        # disable imageio's quality\n",
    "    ffmpeg_params=[\n",
    "        \"-crf\", \"17\",     # visually lossless\n",
    "        \"-preset\", \"slow\",\n",
    "        \"-pix_fmt\", \"yuv420p\"  # ensures compatibility\n",
    "    ]\n",
    ")\n",
    "\n",
    "for frame in processed_frames:\n",
    "    writer.append_data(frame)\n",
    "writer.close()\n",
    "\n",
    "print(f\"Ultra-HD video saved at: {output_path}\")"
   ]
  },
  {
   "cell_type": "code",
   "execution_count": null,
   "id": "dda4f189-a321-47b8-9d3c-b17e6c355036",
   "metadata": {},
   "outputs": [],
   "source": []
  }
 ],
 "metadata": {
  "kernelspec": {
   "display_name": "Python 3 (ipykernel)",
   "language": "python",
   "name": "python3"
  },
  "language_info": {
   "codemirror_mode": {
    "name": "ipython",
    "version": 3
   },
   "file_extension": ".py",
   "mimetype": "text/x-python",
   "name": "python",
   "nbconvert_exporter": "python",
   "pygments_lexer": "ipython3",
   "version": "3.12.5"
  }
 },
 "nbformat": 4,
 "nbformat_minor": 5
}
