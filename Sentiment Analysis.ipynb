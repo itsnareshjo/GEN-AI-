{
 "cells": [
  {
   "cell_type": "code",
   "execution_count": 1,
   "metadata": {
    "colab": {
     "base_uri": "https://localhost:8080/",
     "height": 802
    },
    "executionInfo": {
     "elapsed": 74524,
     "status": "ok",
     "timestamp": 1744913399862,
     "user": {
      "displayName": "ragava",
      "userId": "07864413981108892283"
     },
     "user_tz": -330
    },
    "id": "Ox2xCxQK4CfP",
    "outputId": "d626040f-eebf-4007-9407-64e7c8268afa"
   },
   "outputs": [
    {
     "name": "stderr",
     "output_type": "stream",
     "text": [
      "C:\\Users\\nares\\AppData\\Local\\Temp\\ipykernel_4352\\48806955.py:22: LangChainDeprecationWarning: The class `HuggingFaceEmbeddings` was deprecated in LangChain 0.2.2 and will be removed in 1.0. An updated version of the class exists in the :class:`~langchain-huggingface package and should be used instead. To use it run `pip install -U :class:`~langchain-huggingface` and import as `from :class:`~langchain_huggingface import HuggingFaceEmbeddings``.\n",
      "  embeddings = HuggingFaceEmbeddings(model_name=\"sentence-transformers/all-MiniLM-L6-v2\")\n",
      "Device set to use cpu\n"
     ]
    },
    {
     "name": "stdout",
     "output_type": "stream",
     "text": [
      "* Running on local URL:  http://127.0.0.1:7860\n",
      "\n",
      "To create a public link, set `share=True` in `launch()`.\n"
     ]
    },
    {
     "data": {
      "text/html": [
       "<div><iframe src=\"http://127.0.0.1:7860/\" width=\"100%\" height=\"500\" allow=\"autoplay; camera; microphone; clipboard-read; clipboard-write;\" frameborder=\"0\" allowfullscreen></iframe></div>"
      ],
      "text/plain": [
       "<IPython.core.display.HTML object>"
      ]
     },
     "metadata": {},
     "output_type": "display_data"
    },
    {
     "name": "stderr",
     "output_type": "stream",
     "text": [
      "C:\\Users\\nares\\AppData\\Local\\Temp\\ipykernel_4352\\48806955.py:30: LangChainDeprecationWarning: The method `BaseRetriever.get_relevant_documents` was deprecated in langchain-core 0.1.46 and will be removed in 1.0. Use :meth:`~invoke` instead.\n",
      "  results = retriever.get_relevant_documents(query)\n"
     ]
    },
    {
     "name": "stdout",
     "output_type": "stream",
     "text": [
      "Keyboard interruption in main thread... closing server.\n"
     ]
    },
    {
     "data": {
      "text/plain": []
     },
     "execution_count": 1,
     "metadata": {},
     "output_type": "execute_result"
    }
   ],
   "source": [
    "#!pip install -q gradio langchain sentence-transformers faiss-cpu transformers\n",
    "\n",
    "import gradio as gr\n",
    "from langchain.text_splitter import CharacterTextSplitter\n",
    "from langchain_community.vectorstores import FAISS\n",
    "from langchain.embeddings import HuggingFaceEmbeddings\n",
    "from langchain.schema import Document\n",
    "from transformers import pipeline\n",
    "\n",
    "corpus = [\n",
    "    \"I love this product! It has changed my life.\",\n",
    "    \"The service was terrible. I am very disappointed.\",\n",
    "    \"Amazing experience, will definitely come back again!\",\n",
    "    \"Not worth the money. The quality was poor.\",\n",
    "    \"I'm neutral about the update. It didn’t do much.\"\n",
    "]\n",
    "\n",
    "def setup_vector_store(corpus):\n",
    "    docs = [Document(page_content=t) for t in corpus]\n",
    "    splitter = CharacterTextSplitter(chunk_size=200, chunk_overlap=20)\n",
    "    split_docs = splitter.split_documents(docs)\n",
    "    embeddings = HuggingFaceEmbeddings(model_name=\"sentence-transformers/all-MiniLM-L6-v2\")\n",
    "    vectorstore = FAISS.from_documents(split_docs, embeddings)\n",
    "    return vectorstore.as_retriever(search_kwargs={\"k\": 2})\n",
    "\n",
    "retriever = setup_vector_store(corpus)\n",
    "classifier = pipeline(\"sentiment-analysis\", model=\"distilbert-base-uncased-finetuned-sst-2-english\")\n",
    "\n",
    "def sentiment_rag_interface(query):\n",
    "    results = retriever.get_relevant_documents(query)\n",
    "    response = \"\"\n",
    "    for i, doc in enumerate(results):\n",
    "        sentiment = classifier(doc.page_content)[0]\n",
    "        response += f\"Match {i+1}:\\n{doc.page_content}\\n→ Sentiment: {sentiment['label']} (Confidence: {sentiment['score']:.2f})\\n\\n\"\n",
    "    return response.strip()\n",
    "\n",
    "with gr.Blocks(title=\"💬 Sentiment RAG Analyzer\") as demo:\n",
    "    gr.Markdown(\"## Ask questions to analyze sentiment from corpus using RAG + Transformers\")\n",
    "    with gr.Row():\n",
    "        query_input = gr.Textbox(label=\"Your Question\", placeholder=\"e.g. What do users feel about quality?\")\n",
    "    output_box = gr.Textbox(label=\"RAG Sentiment Output\", lines=8)\n",
    "    btn = gr.Button(\"Analyze\")\n",
    "\n",
    "    btn.click(sentiment_rag_interface, inputs=query_input, outputs=output_box)\n",
    "\n",
    "demo.launch(debug=True)"
   ]
  },
  {
   "cell_type": "code",
   "execution_count": null,
   "metadata": {},
   "outputs": [],
   "source": []
  }
 ],
 "metadata": {
  "colab": {
   "authorship_tag": "ABX9TyO54+DFqpfAXul2YOr0isQE",
   "provenance": []
  },
  "kernelspec": {
   "display_name": "Python 3 (ipykernel)",
   "language": "python",
   "name": "python3"
  },
  "language_info": {
   "codemirror_mode": {
    "name": "ipython",
    "version": 3
   },
   "file_extension": ".py",
   "mimetype": "text/x-python",
   "name": "python",
   "nbconvert_exporter": "python",
   "pygments_lexer": "ipython3",
   "version": "3.12.5"
  }
 },
 "nbformat": 4,
 "nbformat_minor": 4
}
