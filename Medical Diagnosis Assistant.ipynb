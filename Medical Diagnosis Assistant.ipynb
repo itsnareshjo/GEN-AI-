{
 "cells": [
  {
   "cell_type": "markdown",
   "id": "77e62803-6189-4d87-8a7e-10a94b5924bc",
   "metadata": {},
   "source": [
    "<center><h1>Medical Diagnosis Assistant</h1></center>"
   ]
  },
  {
   "cell_type": "code",
   "execution_count": 1,
   "id": "8baa15d9-f67b-4089-b2ba-b3eab3adfe76",
   "metadata": {},
   "outputs": [
    {
     "name": "stderr",
     "output_type": "stream",
     "text": [
      "No model was supplied, defaulted to facebook/bart-large-mnli and revision d7645e1 (https://huggingface.co/facebook/bart-large-mnli).\n",
      "Using a pipeline without specifying a model name and revision in production is not recommended.\n",
      "Device set to use cpu\n"
     ]
    },
    {
     "name": "stdout",
     "output_type": "stream",
     "text": [
      "Welcome to the AI-powered Medical Diagnosis Assistant!\n",
      "Type 'exit' to stop.\n"
     ]
    },
    {
     "name": "stdin",
     "output_type": "stream",
     "text": [
      "Enter your symptoms (type 'exit' to quit):  Running nose , Headache\n"
     ]
    },
    {
     "name": "stderr",
     "output_type": "stream",
     "text": [
      "The `multi_class` argument has been deprecated and renamed to `multi_label`. `multi_class` will be removed in a future version of Transformers.\n"
     ]
    },
    {
     "name": "stdout",
     "output_type": "stream",
     "text": [
      "\n",
      "Diagnosing based on symptoms...\n",
      "\n",
      "Diagnosis: Cold\n",
      "Confidence: 95.18%\n"
     ]
    },
    {
     "name": "stdin",
     "output_type": "stream",
     "text": [
      "Enter your symptoms (type 'exit' to quit):  exit\n"
     ]
    },
    {
     "name": "stdout",
     "output_type": "stream",
     "text": [
      "Goodbye!\n"
     ]
    }
   ],
   "source": [
    "from transformers import pipeline\n",
    "from sklearn.preprocessing import LabelEncoder\n",
    "\n",
    "# Pre-trained models for symptom-based diagnosis and sentiment analysis\n",
    "symptom_classifier = pipeline(\"zero-shot-classification\")\n",
    "\n",
    "# Predefined list of possible diseases (you can expand this)\n",
    "diseases = [\"Flu\", \"Cold\", \"COVID-19\", \"Malaria\", \"Pneumonia\", \"Cancer\", \"Diabetes\"]\n",
    "\n",
    "# Encode disease labels\n",
    "label_encoder = LabelEncoder()\n",
    "label_encoder.fit(diseases)\n",
    "\n",
    "# Function to classify symptoms into possible diseases\n",
    "def diagnose_symptoms(symptoms):\n",
    "    # Use the model to classify the input symptoms into disease categories\n",
    "    print(\"\\nDiagnosing based on symptoms...\")\n",
    "    results = symptom_classifier(\n",
    "        symptoms,\n",
    "        candidate_labels=diseases,\n",
    "        multi_class=True\n",
    "    )\n",
    "\n",
    "    # Output the top predictions\n",
    "    disease = results['labels'][0]  # Get the most likely disease\n",
    "    confidence = results['scores'][0]  # Confidence level\n",
    "    return disease, confidence\n",
    "\n",
    "# Function to run the assistant\n",
    "def start_assistant():\n",
    "    print(\"Welcome to the AI-powered Medical Diagnosis Assistant!\")\n",
    "    print(\"Type 'exit' to stop.\")\n",
    "    \n",
    "    while True:\n",
    "        user_input = input(\"Enter your symptoms (type 'exit' to quit): \")\n",
    "        \n",
    "        if user_input.lower() == 'exit':\n",
    "            print(\"Goodbye!\")\n",
    "            break\n",
    "        \n",
    "        # Get the diagnosis result\n",
    "        disease, confidence = diagnose_symptoms(user_input)\n",
    "        \n",
    "        print(f\"\\nDiagnosis: {disease}\")\n",
    "        print(f\"Confidence: {confidence*100:.2f}%\")\n",
    "\n",
    "# Run the assistant\n",
    "if __name__ == \"__main__\":\n",
    "    start_assistant()\n"
   ]
  },
  {
   "cell_type": "code",
   "execution_count": null,
   "id": "b43c3e73-f111-4199-97f7-cf321e8f316e",
   "metadata": {},
   "outputs": [],
   "source": []
  }
 ],
 "metadata": {
  "kernelspec": {
   "display_name": "Python 3 (ipykernel)",
   "language": "python",
   "name": "python3"
  },
  "language_info": {
   "codemirror_mode": {
    "name": "ipython",
    "version": 3
   },
   "file_extension": ".py",
   "mimetype": "text/x-python",
   "name": "python",
   "nbconvert_exporter": "python",
   "pygments_lexer": "ipython3",
   "version": "3.12.5"
  }
 },
 "nbformat": 4,
 "nbformat_minor": 5
}
